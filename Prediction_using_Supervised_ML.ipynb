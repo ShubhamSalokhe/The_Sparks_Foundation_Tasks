{
  "nbformat": 4,
  "nbformat_minor": 0,
  "metadata": {
    "kernelspec": {
      "display_name": "Python 3",
      "language": "python",
      "name": "python3"
    },
    "language_info": {
      "codemirror_mode": {
        "name": "ipython",
        "version": 3
      },
      "file_extension": ".py",
      "mimetype": "text/x-python",
      "name": "python",
      "nbconvert_exporter": "python",
      "pygments_lexer": "ipython3",
      "version": "3.8.3"
    },
    "colab": {
      "name": "Prediction using Supervised ML.ipynb",
      "provenance": [],
      "include_colab_link": true
    }
  },
  "cells": [
    {
      "cell_type": "markdown",
      "metadata": {
        "id": "view-in-github",
        "colab_type": "text"
      },
      "source": [
        "<a href=\"https://colab.research.google.com/github/ShubhamSalokhe/The_Sparks_Foundation_Tasks/blob/main/Prediction_using_Supervised_ML.ipynb\" target=\"_parent\"><img src=\"https://colab.research.google.com/assets/colab-badge.svg\" alt=\"Open In Colab\"/></a>"
      ]
    },
    {
      "cell_type": "markdown",
      "metadata": {
        "id": "M3kMZsDNnKsC"
      },
      "source": [
        "# Prediction using Supervised ML (Level -Biginner )"
      ]
    },
    {
      "cell_type": "markdown",
      "metadata": {
        "id": "lHyko-VbnKsE"
      },
      "source": [
        "<blockquote><b>Predict the percentage of an student based on the no. of study hours. <br> This is a simple linear regression task as it involves just 2 variables.</b> </blockquote>"
      ]
    },
    {
      "cell_type": "markdown",
      "metadata": {
        "id": "bKx8WpianKsF"
      },
      "source": [
        "###  Author: Shubham Dilip Salokhe"
      ]
    },
    {
      "cell_type": "markdown",
      "metadata": {
        "id": "PblqmC_LnKsG"
      },
      "source": [
        "### Used Librearies in this Noteboook\n",
        "><b>Pandas:</b><br>Pandas is a fast, powerful, flexible and easy to use open source data analysis and manipulation tool, built on top of the Python programming language\n",
        "<br><br><b>Matplotlib:</b><br>Matplotlib is a plotting library. Matplotlib is a comprehensive library for creating static, animated, and interactive visualizations in Python.\n",
        "<br><br><b>scikit-learn :</b><br>scikit-learn (Sklearn) is the most useful and robust library for machine learning in Python. It provides a selection of efficient tools for machine learning and statistical modeling including classification, regression, clustering and dimensionality reduction via a consistence interface in Python. This library, which is largely written in Python, is built upon NumPy, SciPy and Matplotlib."
      ]
    },
    {
      "cell_type": "markdown",
      "metadata": {
        "id": "EBI58CP9nKsG"
      },
      "source": [
        "### Step:1. Importing all libraries which required in this notebook"
      ]
    },
    {
      "cell_type": "code",
      "metadata": {
        "id": "8ApZ-nV9nKsH"
      },
      "source": [
        "import pandas as pd \n",
        "\n",
        "import matplotlib.pyplot as plt\n",
        "%matplotlib inline \n",
        "\n",
        "from sklearn.linear_model import LinearRegression\n",
        "from sklearn.model_selection import train_test_split"
      ],
      "execution_count": null,
      "outputs": []
    },
    {
      "cell_type": "markdown",
      "metadata": {
        "id": "LeXHrF6dnKsH"
      },
      "source": [
        "### Step:2. Reading data from csv file and visualization\n",
        ">We are importing Stuents data from github "
      ]
    },
    {
      "cell_type": "code",
      "metadata": {
        "id": "r1S-iXNTnKsI",
        "outputId": "e63a68f4-2b87-4ebd-9e29-c3320c2df8bc"
      },
      "source": [
        "data=pd.read_csv(r'https://raw.githubusercontent.com/AdiPersonalWorks/Random/master/student_scores%20-%20student_scores.csv')\n",
        "print(\"Data imported successfully\")\n",
        "\n",
        "data.head()"
      ],
      "execution_count": null,
      "outputs": [
        {
          "output_type": "stream",
          "text": [
            "Data imported successfully\n"
          ],
          "name": "stdout"
        },
        {
          "output_type": "execute_result",
          "data": {
            "text/html": [
              "<div>\n",
              "<style scoped>\n",
              "    .dataframe tbody tr th:only-of-type {\n",
              "        vertical-align: middle;\n",
              "    }\n",
              "\n",
              "    .dataframe tbody tr th {\n",
              "        vertical-align: top;\n",
              "    }\n",
              "\n",
              "    .dataframe thead th {\n",
              "        text-align: right;\n",
              "    }\n",
              "</style>\n",
              "<table border=\"1\" class=\"dataframe\">\n",
              "  <thead>\n",
              "    <tr style=\"text-align: right;\">\n",
              "      <th></th>\n",
              "      <th>Hours</th>\n",
              "      <th>Scores</th>\n",
              "    </tr>\n",
              "  </thead>\n",
              "  <tbody>\n",
              "    <tr>\n",
              "      <th>0</th>\n",
              "      <td>2.5</td>\n",
              "      <td>21</td>\n",
              "    </tr>\n",
              "    <tr>\n",
              "      <th>1</th>\n",
              "      <td>5.1</td>\n",
              "      <td>47</td>\n",
              "    </tr>\n",
              "    <tr>\n",
              "      <th>2</th>\n",
              "      <td>3.2</td>\n",
              "      <td>27</td>\n",
              "    </tr>\n",
              "    <tr>\n",
              "      <th>3</th>\n",
              "      <td>8.5</td>\n",
              "      <td>75</td>\n",
              "    </tr>\n",
              "    <tr>\n",
              "      <th>4</th>\n",
              "      <td>3.5</td>\n",
              "      <td>30</td>\n",
              "    </tr>\n",
              "  </tbody>\n",
              "</table>\n",
              "</div>"
            ],
            "text/plain": [
              "   Hours  Scores\n",
              "0    2.5      21\n",
              "1    5.1      47\n",
              "2    3.2      27\n",
              "3    8.5      75\n",
              "4    3.5      30"
            ]
          },
          "metadata": {
            "tags": []
          },
          "execution_count": 2
        }
      ]
    },
    {
      "cell_type": "markdown",
      "metadata": {
        "id": "zSvawJYInKsJ"
      },
      "source": [
        "Visualising The data by ploting the 2-D graph for finding the relationship between manually.We use matplotlib.pyplot to plot these graph"
      ]
    },
    {
      "cell_type": "code",
      "metadata": {
        "id": "oeG8RS2cnKsK",
        "outputId": "7087c0fc-033c-411c-c3fe-d73926d378d5"
      },
      "source": [
        "data.plot(x='Hours',y='Scores',style='o')\n",
        "plt.title('Hours vs Percentage')\n",
        "plt.xlabel('Hours Studied')\n",
        "plt.ylabel('Percentage Score')\n",
        "plt.grid()\n",
        "plt.show()"
      ],
      "execution_count": null,
      "outputs": [
        {
          "output_type": "display_data",
          "data": {
            "image/png": "[encoded data removed]",
            "text/plain": [
              "<Figure size 432x288 with 1 Axes>"
            ]
          },
          "metadata": {
            "tags": [],
            "needs_background": "light"
          }
        }
      ]
    },
    {
      "cell_type": "markdown",
      "metadata": {
        "id": "Cp7_F25EnKsK"
      },
      "source": [
        "Above diagram is well suited for linear relation between the number of hours studied with respect to percentage of score"
      ]
    },
    {
      "cell_type": "code",
      "metadata": {
        "id": "-Z2WwmLOnKsL",
        "outputId": "597e702f-71f5-46d2-e612-5cbbf3e7822d"
      },
      "source": [
        "data.describe()"
      ],
      "execution_count": null,
      "outputs": [
        {
          "output_type": "execute_result",
          "data": {
            "text/html": [
              "<div>\n",
              "<style scoped>\n",
              "    .dataframe tbody tr th:only-of-type {\n",
              "        vertical-align: middle;\n",
              "    }\n",
              "\n",
              "    .dataframe tbody tr th {\n",
              "        vertical-align: top;\n",
              "    }\n",
              "\n",
              "    .dataframe thead th {\n",
              "        text-align: right;\n",
              "    }\n",
              "</style>\n",
              "<table border=\"1\" class=\"dataframe\">\n",
              "  <thead>\n",
              "    <tr style=\"text-align: right;\">\n",
              "      <th></th>\n",
              "      <th>Hours</th>\n",
              "      <th>Scores</th>\n",
              "    </tr>\n",
              "  </thead>\n",
              "  <tbody>\n",
              "    <tr>\n",
              "      <th>count</th>\n",
              "      <td>25.000000</td>\n",
              "      <td>25.000000</td>\n",
              "    </tr>\n",
              "    <tr>\n",
              "      <th>mean</th>\n",
              "      <td>5.012000</td>\n",
              "      <td>51.480000</td>\n",
              "    </tr>\n",
              "    <tr>\n",
              "      <th>std</th>\n",
              "      <td>2.525094</td>\n",
              "      <td>25.286887</td>\n",
              "    </tr>\n",
              "    <tr>\n",
              "      <th>min</th>\n",
              "      <td>1.100000</td>\n",
              "      <td>17.000000</td>\n",
              "    </tr>\n",
              "    <tr>\n",
              "      <th>25%</th>\n",
              "      <td>2.700000</td>\n",
              "      <td>30.000000</td>\n",
              "    </tr>\n",
              "    <tr>\n",
              "      <th>50%</th>\n",
              "      <td>4.800000</td>\n",
              "      <td>47.000000</td>\n",
              "    </tr>\n",
              "    <tr>\n",
              "      <th>75%</th>\n",
              "      <td>7.400000</td>\n",
              "      <td>75.000000</td>\n",
              "    </tr>\n",
              "    <tr>\n",
              "      <th>max</th>\n",
              "      <td>9.200000</td>\n",
              "      <td>95.000000</td>\n",
              "    </tr>\n",
              "  </tbody>\n",
              "</table>\n",
              "</div>"
            ],
            "text/plain": [
              "           Hours     Scores\n",
              "count  25.000000  25.000000\n",
              "mean    5.012000  51.480000\n",
              "std     2.525094  25.286887\n",
              "min     1.100000  17.000000\n",
              "25%     2.700000  30.000000\n",
              "50%     4.800000  47.000000\n",
              "75%     7.400000  75.000000\n",
              "max     9.200000  95.000000"
            ]
          },
          "metadata": {
            "tags": []
          },
          "execution_count": 4
        }
      ]
    },
    {
      "cell_type": "code",
      "metadata": {
        "id": "jB10OPmenKsM",
        "outputId": "e28454c3-e16c-4636-b350-aaeb18e216cc"
      },
      "source": [
        "data.isnull().sum()"
      ],
      "execution_count": null,
      "outputs": [
        {
          "output_type": "execute_result",
          "data": {
            "text/plain": [
              "Hours     0\n",
              "Scores    0\n",
              "dtype: int64"
            ]
          },
          "metadata": {
            "tags": []
          },
          "execution_count": 5
        }
      ]
    },
    {
      "cell_type": "code",
      "metadata": {
        "id": "PRysYmIDnKsN",
        "outputId": "91bc45e5-775b-434b-de7a-31d4f1d9a4f7"
      },
      "source": [
        "data.info()"
      ],
      "execution_count": null,
      "outputs": [
        {
          "output_type": "stream",
          "text": [
            "<class 'pandas.core.frame.DataFrame'>\n",
            "RangeIndex: 25 entries, 0 to 24\n",
            "Data columns (total 2 columns):\n",
            " #   Column  Non-Null Count  Dtype  \n",
            "---  ------  --------------  -----  \n",
            " 0   Hours   25 non-null     float64\n",
            " 1   Scores  25 non-null     int64  \n",
            "dtypes: float64(1), int64(1)\n",
            "memory usage: 528.0 bytes\n"
          ],
          "name": "stdout"
        }
      ]
    },
    {
      "cell_type": "markdown",
      "metadata": {
        "id": "Su8wCM0BnKsO"
      },
      "source": [
        "From above information we conclude that in this data set null values are not present and values are in float64 and int64"
      ]
    },
    {
      "cell_type": "markdown",
      "metadata": {
        "id": "mOqrJYQanKsO"
      },
      "source": [
        "## Step:3. Preparing the data \n",
        ">The next step is to divide the data into attributes i.e. inputs and labels i.e. outputs and spliting that data into training and test sets."
      ]
    },
    {
      "cell_type": "code",
      "metadata": {
        "id": "JJD2lh7XnKsP"
      },
      "source": [
        "X= data.iloc[:, :-1].values  \n",
        "y= data.iloc[:, 1].values  "
      ],
      "execution_count": null,
      "outputs": []
    },
    {
      "cell_type": "markdown",
      "metadata": {
        "id": "9Xz-_73WnKsP"
      },
      "source": [
        "## Step:4.Training the Algorithm\n",
        ">We have split our data into training and testing sets, and now is finally the time to train our algorithm."
      ]
    },
    {
      "cell_type": "code",
      "metadata": {
        "id": "5Pd4WcBBnKsQ"
      },
      "source": [
        "clf = LinearRegression()"
      ],
      "execution_count": null,
      "outputs": []
    },
    {
      "cell_type": "code",
      "metadata": {
        "id": "sulSt8A-nKsQ"
      },
      "source": [
        "X_train, X_test, y_train , y_test  = train_test_split(X,y,test_size= 0.25,random_state= 0)"
      ],
      "execution_count": null,
      "outputs": []
    },
    {
      "cell_type": "code",
      "metadata": {
        "id": "MaqzJwDOnKsR",
        "outputId": "32955f3c-975e-4851-8aa2-4f9f394fdbf4"
      },
      "source": [
        "clf.fit(X_train,y_train)"
      ],
      "execution_count": null,
      "outputs": [
        {
          "output_type": "execute_result",
          "data": {
            "text/plain": [
              "LinearRegression()"
            ]
          },
          "metadata": {
            "tags": []
          },
          "execution_count": 10
        }
      ]
    },
    {
      "cell_type": "code",
      "metadata": {
        "id": "cB6dy6cFnKsR",
        "outputId": "c173b616-0307-4ded-bda4-1df48c1203fc"
      },
      "source": [
        "clf.predict(X_test)"
      ],
      "execution_count": null,
      "outputs": [
        {
          "output_type": "execute_result",
          "data": {
            "text/plain": [
              "array([16.84472176, 33.74557494, 75.50062397, 26.7864001 , 60.58810646,\n",
              "       39.71058194, 20.8213931 ])"
            ]
          },
          "metadata": {
            "tags": []
          },
          "execution_count": 11
        }
      ]
    },
    {
      "cell_type": "code",
      "metadata": {
        "id": "vUW31Kx6nKsR",
        "outputId": "8c064756-e80b-4b2f-a7e5-08baebd8f707"
      },
      "source": [
        "y_test"
      ],
      "execution_count": null,
      "outputs": [
        {
          "output_type": "execute_result",
          "data": {
            "text/plain": [
              "array([20, 27, 69, 30, 62, 35, 24], dtype=int64)"
            ]
          },
          "metadata": {
            "tags": []
          },
          "execution_count": 12
        }
      ]
    },
    {
      "cell_type": "code",
      "metadata": {
        "id": "tm6SWnhKnKsS",
        "outputId": "9c2934e2-d030-4ada-cc45-9b926eaac660"
      },
      "source": [
        "clf.coef_"
      ],
      "execution_count": null,
      "outputs": [
        {
          "output_type": "execute_result",
          "data": {
            "text/plain": [
              "array([9.94167834])"
            ]
          },
          "metadata": {
            "tags": []
          },
          "execution_count": 13
        }
      ]
    },
    {
      "cell_type": "code",
      "metadata": {
        "id": "aivJuwMwnKsT",
        "outputId": "5b9aab6f-df04-4b9f-9214-09c57a017332"
      },
      "source": [
        "clf.intercept_"
      ],
      "execution_count": null,
      "outputs": [
        {
          "output_type": "execute_result",
          "data": {
            "text/plain": [
              "1.932204253151646"
            ]
          },
          "metadata": {
            "tags": []
          },
          "execution_count": 14
        }
      ]
    },
    {
      "cell_type": "markdown",
      "metadata": {
        "id": "KrW867acnKsT"
      },
      "source": [
        "### Plotting the regression  line by using linear Regression formula  y=m*x + c"
      ]
    },
    {
      "cell_type": "code",
      "metadata": {
        "id": "r1ALNOjnnKsT"
      },
      "source": [
        "line = clf.coef_*X_train+clf.intercept_"
      ],
      "execution_count": null,
      "outputs": []
    },
    {
      "cell_type": "markdown",
      "metadata": {
        "id": "1g6ugboznKsU"
      },
      "source": [
        "plotting for the test data"
      ]
    },
    {
      "cell_type": "code",
      "metadata": {
        "id": "32cN4UdInKsU",
        "outputId": "ff79f445-6223-4124-deda-18715fda1362"
      },
      "source": [
        "# plotting for the test data\n",
        "plt.scatter(X_train,y_train)\n",
        "plt.plot(X_train,line);\n",
        "plt.grid()\n",
        "plt.show()"
      ],
      "execution_count": null,
      "outputs": [
        {
          "output_type": "display_data",
          "data": {
            "image/png": "[encoded data removed]",
            "text/plain": [
              "<Figure size 432x288 with 1 Axes>"
            ]
          },
          "metadata": {
            "tags": [],
            "needs_background": "light"
          }
        }
      ]
    },
    {
      "cell_type": "markdown",
      "metadata": {
        "id": "j_d5k8iwnKsU"
      },
      "source": [
        "## Step:5. Making Predictions\n",
        ">Now, we are doing predictions for checking how much accurate our builted model"
      ]
    },
    {
      "cell_type": "code",
      "metadata": {
        "id": "LNW9WFmbnKsU"
      },
      "source": [
        "pr= clf.predict(X_test)"
      ],
      "execution_count": null,
      "outputs": []
    },
    {
      "cell_type": "code",
      "metadata": {
        "id": "0Ln8larrnKsV",
        "outputId": "3a25c44a-48df-4325-c3f9-0aba57c3455c"
      },
      "source": [
        "list(zip(y_test,pr))"
      ],
      "execution_count": null,
      "outputs": [
        {
          "output_type": "execute_result",
          "data": {
            "text/plain": [
              "[(20, 16.84472176238379),\n",
              " (27, 33.74557493951355),\n",
              " (69, 75.50062396536356),\n",
              " (30, 26.786400101871884),\n",
              " (62, 60.58810645613141),\n",
              " (35, 39.71058194320641),\n",
              " (24, 20.821393098179026)]"
            ]
          },
          "metadata": {
            "tags": []
          },
          "execution_count": 18
        }
      ]
    },
    {
      "cell_type": "markdown",
      "metadata": {
        "id": "X6bkkNZXnKsV"
      },
      "source": [
        "## Step:6. Evaluating the model\n",
        ">The final step is to evaluate the performance of algorithm. This step is particularly important to compare how well different algorithms perform on a particular dataset. For simplicity here, we have chosen the mean square error. There are many such metrics."
      ]
    },
    {
      "cell_type": "code",
      "metadata": {
        "id": "yhp52T5JnKsV",
        "outputId": "9b9e5d33-110e-4d38-fb9a-d808bd07f5ee"
      },
      "source": [
        "from sklearn.metrics import mean_squared_error\n",
        "mean_squared_error(y_test,pr,squared=False)"
      ],
      "execution_count": null,
      "outputs": [
        {
          "output_type": "execute_result",
          "data": {
            "text/plain": [
              "4.5092043283688055"
            ]
          },
          "metadata": {
            "tags": []
          },
          "execution_count": 19
        }
      ]
    },
    {
      "cell_type": "markdown",
      "metadata": {
        "id": "fvw-ciHOnKsW"
      },
      "source": [
        "## Step:7. Solution"
      ]
    },
    {
      "cell_type": "code",
      "metadata": {
        "id": "vnhsrAO-nKsW",
        "outputId": "1095024e-2f74-4b1c-a0fd-8fd11406c41a"
      },
      "source": [
        "hour = [9.25]\n",
        "own_pr = clf.predict([hour])\n",
        "print(\"No of Hours = {}\".format([hour]))\n",
        "print(\"Predicted Score = {}\".format(own_pr[0]))"
      ],
      "execution_count": null,
      "outputs": [
        {
          "output_type": "stream",
          "text": [
            "No of Hours = [[9.25]]\n",
            "Predicted Score = 93.89272889341655\n"
          ],
          "name": "stdout"
        }
      ]
    },
    {
      "cell_type": "markdown",
      "metadata": {
        "id": "hZnG4WCtnKsW"
      },
      "source": [
        "## Predicted Score = 91.407589223163\n",
        "### Conclusion : Hence , Predicted successfully the percentage of an student based on the no. of study hours."
      ]
    }
  ]
}